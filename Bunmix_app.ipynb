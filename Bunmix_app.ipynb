{
 "cells": [
  {
   "cell_type": "markdown",
   "metadata": {},
   "source": [
    "## Welcome to Bunmix\n",
    "This App implements Bayesian unmixing of remanence acquisition curves (video tutorials are not available yet)."
   ]
  },
  {
   "cell_type": "code",
   "execution_count": 1,
   "metadata": {},
   "outputs": [
    {
     "name": "stderr",
     "output_type": "stream",
     "text": [
      "/anaconda/lib/python3.6/site-packages/h5py/__init__.py:36: FutureWarning: Conversion of the second argument of issubdtype from `float` to `np.floating` is deprecated. In future, it will be treated as `np.float64 == np.dtype(float).type`.\n",
      "  from ._conv import register_converters as _register_converters\n"
     ]
    }
   ],
   "source": [
    "import bunmix as bx"
   ]
  },
  {
   "cell_type": "code",
   "execution_count": 2,
   "metadata": {},
   "outputs": [],
   "source": [
    "%load_ext autoreload\n",
    "%autoreload 2"
   ]
  },
  {
   "cell_type": "markdown",
   "metadata": {},
   "source": [
    "<div style=\"clear: left;\">\n",
    "    <p style=\"float: left;\"><img src=\"https://image.flaticon.com/icons/svg/2489/2489608.svg\" height=\"100\" width=\"100\" border=\"1px\"></p>\n",
    "    <p><H3>(1) Paste in your data (Video tutorial: <a href=\"https://www.thesitewizard.com/\" target=\"_blank\">Local</a> or <a href=\"https://www.thesitewizard.com/\" target=\"_blank\">Cloud</a>)</H3></p>\n",
    "You should paste in acquisition data with applied fields in mT (maximum of 500 rows).\n",
    "</div>"
   ]
  },
  {
   "cell_type": "code",
   "execution_count": 3,
   "metadata": {},
   "outputs": [
    {
     "data": {
      "application/vnd.jupyter.widget-view+json": {
       "model_id": "176e6abb948448e1a1d7cef0fba3a8fb",
       "version_major": 2,
       "version_minor": 0
      },
      "text/plain": [
       "Sheet(cells=(Cell(column_end=0, column_start=0, row_end=499, row_start=0, squeeze_row=False, type='numeric', v…"
      ]
     },
     "metadata": {},
     "output_type": "display_data"
    }
   ],
   "source": [
    "X = {}\n",
    "X = bx.input.enter_data(X)"
   ]
  },
  {
   "cell_type": "markdown",
   "metadata": {},
   "source": [
    "<div style=\"clear: left;\">\n",
    "    <p style=\"float: left;\"><img src=\"https://image.flaticon.com/icons/svg/762/762620.svg\" height=\"100\" width=\"100\" border=\"1px\"></p>\n",
    "    <p><H3>(2) Import and preprocess your data (Video tutorial: <a href=\"https://www.thesitewizard.com/\" target=\"_blank\">Local</a> or <a href=\"https://www.thesitewizard.com/\" target=\"_blank\">Cloud</a>)</H3></p>\n",
    "You can set your sample parameters, select your input and output data units and limit the field range for analysis.\n",
    "</div>"
   ]
  },
  {
   "cell_type": "code",
   "execution_count": 4,
   "metadata": {},
   "outputs": [
    {
     "data": {
      "application/vnd.jupyter.widget-view+json": {
       "model_id": "fb2b0e12217a4505a4ae5809428916d0",
       "version_major": 2,
       "version_minor": 0
      },
      "text/plain": [
       "LoadedButton(description='Import Data', style=ButtonStyle())"
      ]
     },
     "metadata": {},
     "output_type": "display_data"
    }
   ],
   "source": [
    "im = bx.buttons.LoadedButton(description=\"Import Data\", value=X)\n",
    "im.on_click(bx.buttons.data)\n",
    "display(im)\n",
    "X = im.value"
   ]
  },
  {
   "cell_type": "markdown",
   "metadata": {},
   "source": [
    "<div style=\"clear: left;\">\n",
    "    <p style=\"float: left;\"><img src=\"https://image.flaticon.com/icons/svg/2942/2942499.svg\" height=\"100\" width=\"100\" border=\"1px\"></p>\n",
    "    <p><H3>(3) Set the unmixing model parameters (Video tutorial: <a href=\"https://www.thesitewizard.com/\" target=\"_blank\">Local</a> or <a href=\"https://www.thesitewizard.com/\" target=\"_blank\">Cloud</a>)</H3></p>\n",
    "Select the number of mixture components and parameters for the NUTS sampler.\n",
    "</div>"
   ]
  },
  {
   "cell_type": "code",
   "execution_count": 5,
   "metadata": {},
   "outputs": [
    {
     "data": {
      "application/vnd.jupyter.widget-view+json": {
       "model_id": "02293711a72c4c0e9391b60b78555e6d",
       "version_major": 2,
       "version_minor": 0
      },
      "text/plain": [
       "LoadedButton(description='Model Parameters', style=ButtonStyle())"
      ]
     },
     "metadata": {},
     "output_type": "display_data"
    }
   ],
   "source": [
    "mp = bx.buttons.LoadedButton(description=\"Model Parameters\", value=X)\n",
    "mp.on_click(bx.buttons.params)\n",
    "display(mp)\n",
    "X = mp.value"
   ]
  },
  {
   "cell_type": "markdown",
   "metadata": {},
   "source": [
    "<div style=\"clear: left;\">\n",
    "    <p style=\"float: left;\"><img src=\"https://image.flaticon.com/icons/svg/3205/3205477.svg\" height=\"100\" width=\"100\" border=\"1px\"></p>\n",
    "    <p><H3>(4) Run the unmixing model (Video tutorial: <a href=\"https://www.thesitewizard.com/\" target=\"_blank\">Local</a> or <a href=\"https://www.thesitewizard.com/\" target=\"_blank\">Cloud</a>)</H3></p>\n",
    "This may take some time and the rotating cogs show the model is progressing. A message will appear when the model is finished.\n",
    "</div>"
   ]
  },
  {
   "cell_type": "code",
   "execution_count": 10,
   "metadata": {},
   "outputs": [
    {
     "data": {
      "application/vnd.jupyter.widget-view+json": {
       "model_id": "6f82a6cff3af40738c0ffe783bb2ae94",
       "version_major": 2,
       "version_minor": 0
      },
      "text/plain": [
       "LoadedButton(description='Estimate Model', style=ButtonStyle())"
      ]
     },
     "metadata": {},
     "output_type": "display_data"
    }
   ],
   "source": [
    "md = bx.buttons.LoadedButton(description=\"Estimate Model\", value=X)\n",
    "md.on_click(bx.buttons.model)\n",
    "display(md)\n",
    "X = md.value"
   ]
  },
  {
   "cell_type": "markdown",
   "metadata": {},
   "source": [
    "<div style=\"clear: left;\">\n",
    "    <p style=\"float: left;\"><img src=\"https://image.flaticon.com/icons/svg/2905/2905191.svg\" height=\"100\" width=\"100\" border=\"1px\"></p>\n",
    "    <p><H3>(5) Plot the unmixing model (Video tutorial: <a href=\"https://www.thesitewizard.com/\" target=\"_blank\">Local</a> or <a href=\"https://www.thesitewizard.com/\" target=\"_blank\">Cloud</a>)</H3></p>\n",
    "This may take a little time as the model uncertainties are calculated.\n",
    "</div>"
   ]
  },
  {
   "cell_type": "code",
   "execution_count": 7,
   "metadata": {},
   "outputs": [
    {
     "data": {
      "application/vnd.jupyter.widget-view+json": {
       "model_id": "c45b049e6b404d35bf370694dc3b375b",
       "version_major": 2,
       "version_minor": 0
      },
      "text/plain": [
       "LoadedButton(description='Plot Model', style=ButtonStyle())"
      ]
     },
     "metadata": {},
     "output_type": "display_data"
    }
   ],
   "source": [
    "pt = bx.buttons.LoadedButton(description=\"Plot Model\", value=X)\n",
    "pt.on_click(bx.buttons.plot)\n",
    "display(pt)\n",
    "X = pt.value"
   ]
  }
 ],
 "metadata": {
  "kernelspec": {
   "display_name": "Python 3",
   "language": "python",
   "name": "python3"
  },
  "language_info": {
   "codemirror_mode": {
    "name": "ipython",
    "version": 3
   },
   "file_extension": ".py",
   "mimetype": "text/x-python",
   "name": "python",
   "nbconvert_exporter": "python",
   "pygments_lexer": "ipython3",
   "version": "3.6.6"
  }
 },
 "nbformat": 4,
 "nbformat_minor": 2
}
