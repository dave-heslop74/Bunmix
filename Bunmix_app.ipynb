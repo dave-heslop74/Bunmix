{
 "cells": [
  {
   "cell_type": "markdown",
   "metadata": {},
   "source": [
    "## Welcome to Bunmix\n",
    "This App implements Bayesian unmixing of remanence acquisition curves (video tutorials are not available yet)."
   ]
  },
  {
   "cell_type": "code",
   "execution_count": null,
   "metadata": {},
   "outputs": [],
   "source": [
    "import bunmix as bx"
   ]
  },
  {
   "cell_type": "markdown",
   "metadata": {},
   "source": [
    "<div style=\"clear: left;\">\n",
    "    <p style=\"float: left;\"><img src=\"https://image.flaticon.com/icons/svg/2489/2489608.svg\" height=\"100\" width=\"100\" border=\"1px\"></p>\n",
    "    <p><H3>(1) Paste in your data (Video tutorial: <a href=\"https://www.thesitewizard.com/\" target=\"_blank\">Local</a> or <a href=\"https://www.thesitewizard.com/\" target=\"_blank\">Cloud</a>)</H3></p>\n",
    "You should paste in acquisition data with applied fields in mT (maximum of 500 rows).\n",
    "</div>"
   ]
  },
  {
   "cell_type": "code",
   "execution_count": null,
   "metadata": {},
   "outputs": [],
   "source": [
    "X = {}\n",
    "X = bx.input.enter_data(X)"
   ]
  },
  {
   "cell_type": "markdown",
   "metadata": {},
   "source": [
    "<div style=\"clear: left;\">\n",
    "    <p style=\"float: left;\"><img src=\"https://image.flaticon.com/icons/svg/762/762620.svg\" height=\"100\" width=\"100\" border=\"1px\"></p>\n",
    "    <p><H3>(2) Import and preprocess your data (Video tutorial: <a href=\"https://www.thesitewizard.com/\" target=\"_blank\">Local</a> or <a href=\"https://www.thesitewizard.com/\" target=\"_blank\">Cloud</a>)</H3></p>\n",
    "You can set your sample parameters, select your input and output data units and limit the field range for analysis.\n",
    "</div>"
   ]
  },
  {
   "cell_type": "code",
   "execution_count": null,
   "metadata": {},
   "outputs": [],
   "source": [
    "im = bx.buttons.LoadedButton(description=\"Import Data\", value=X)\n",
    "im.on_click(bx.buttons.data)\n",
    "display(im)\n",
    "X = im.value"
   ]
  },
  {
   "cell_type": "markdown",
   "metadata": {},
   "source": [
    "<div style=\"clear: left;\">\n",
    "    <p style=\"float: left;\"><img src=\"https://image.flaticon.com/icons/svg/2942/2942499.svg\" height=\"100\" width=\"100\" border=\"1px\"></p>\n",
    "    <p><H3>(3) Set the unmixing model parameters (Video tutorial: <a href=\"https://www.thesitewizard.com/\" target=\"_blank\">Local</a> or <a href=\"https://www.thesitewizard.com/\" target=\"_blank\">Cloud</a>)</H3></p>\n",
    "Select the number of mixture components and parameters for the NUTS sampler.\n",
    "</div>"
   ]
  },
  {
   "cell_type": "code",
   "execution_count": null,
   "metadata": {},
   "outputs": [],
   "source": [
    "mp = bx.buttons.LoadedButton(description=\"Model Parameters\", value=X)\n",
    "mp.on_click(bx.buttons.params)\n",
    "display(mp)\n",
    "X = mp.value"
   ]
  },
  {
   "cell_type": "markdown",
   "metadata": {},
   "source": [
    "<div style=\"clear: left;\">\n",
    "    <p style=\"float: left;\"><img src=\"https://image.flaticon.com/icons/svg/3205/3205477.svg\" height=\"100\" width=\"100\" border=\"1px\"></p>\n",
    "    <p><H3>(4) Run the unmixing model (Video tutorial: <a href=\"https://www.thesitewizard.com/\" target=\"_blank\">Local</a> or <a href=\"https://www.thesitewizard.com/\" target=\"_blank\">Cloud</a>)</H3></p>\n",
    "This may take some time and the rotating cogs show the model is progressing. A message will appear when the model is finished.\n",
    "</div>"
   ]
  },
  {
   "cell_type": "code",
   "execution_count": null,
   "metadata": {},
   "outputs": [],
   "source": [
    "md = bx.buttons.LoadedButton(description=\"Estimate Model\", value=X)\n",
    "md.on_click(bx.buttons.model)\n",
    "display(md)\n",
    "X = md.value"
   ]
  },
  {
   "cell_type": "markdown",
   "metadata": {},
   "source": [
    "<div style=\"clear: left;\">\n",
    "    <p style=\"float: left;\"><img src=\"https://image.flaticon.com/icons/svg/2905/2905191.svg\" height=\"100\" width=\"100\" border=\"1px\"></p>\n",
    "    <p><H3>(5) Plot the unmixing model (Video tutorial: <a href=\"https://www.thesitewizard.com/\" target=\"_blank\">Local</a> or <a href=\"https://www.thesitewizard.com/\" target=\"_blank\">Cloud</a>)</H3></p>\n",
    "This may take a little time as the model uncertainties are calculated.\n",
    "</div>"
   ]
  },
  {
   "cell_type": "code",
   "execution_count": null,
   "metadata": {},
   "outputs": [],
   "source": [
    "pt = bx.buttons.LoadedButton(description=\"Plot Model\", value=X)\n",
    "pt.on_click(bx.buttons.plot)\n",
    "display(pt)\n",
    "X = pt.value"
   ]
  }
 ],
 "metadata": {
  "kernelspec": {
   "display_name": "Python 3",
   "language": "python",
   "name": "python3"
  },
  "language_info": {
   "codemirror_mode": {
    "name": "ipython",
    "version": 3
   },
   "file_extension": ".py",
   "mimetype": "text/x-python",
   "name": "python",
   "nbconvert_exporter": "python",
   "pygments_lexer": "ipython3",
   "version": "3.6.6"
  }
 },
 "nbformat": 4,
 "nbformat_minor": 2
}
