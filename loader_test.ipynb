{
 "cells": [
  {
   "cell_type": "code",
   "execution_count": 55,
   "metadata": {},
   "outputs": [],
   "source": [
    "import pandas as pd\n",
    "import ipysheet\n",
    "import matplotlib.pyplot as plt"
   ]
  },
  {
   "cell_type": "code",
   "execution_count": 51,
   "metadata": {},
   "outputs": [
    {
     "data": {
      "application/vnd.jupyter.widget-view+json": {
       "model_id": "52510cbdc63646ca81c790fe38a505d1",
       "version_major": 2,
       "version_minor": 0
      },
      "text/plain": [
       "Sheet(cells=(Cell(choice=[], column_end=0, column_start=0, row_end=49, row_start=0, squeeze_row=False, type='n…"
      ]
     },
     "metadata": {},
     "output_type": "display_data"
    }
   ],
   "source": [
    "blank_data = np.empty((50,2))\n",
    "blank_data[:] = np.nan\n",
    "\n",
    "df = pd.DataFrame(blank_data, columns=[\"Field\", \"Magnetization\"])\n",
    "sheet = ipysheet.from_dataframe(df)\n",
    "sheet.layout.height = '300px'\n",
    "sheet.layout.width = '300px'\n",
    "sheet"
   ]
  },
  {
   "cell_type": "code",
   "execution_count": 57,
   "metadata": {},
   "outputs": [],
   "source": [
    "df1 = ipysheet.to_dataframe(sheet)"
   ]
  },
  {
   "cell_type": "code",
   "execution_count": 58,
   "metadata": {},
   "outputs": [],
   "source": [
    "B = np.array(df1['Field'])\n",
    "B = B[B!='nan']\n",
    "B = B.astype(np.float)\n",
    "\n",
    "M = np.array(df1['Magnetization'])\n",
    "M = M[M!='nan']\n",
    "M = M.astype(np.float)"
   ]
  }
 ],
 "metadata": {
  "kernelspec": {
   "display_name": "Python 3",
   "language": "python",
   "name": "python3"
  },
  "language_info": {
   "codemirror_mode": {
    "name": "ipython",
    "version": 3
   },
   "file_extension": ".py",
   "mimetype": "text/x-python",
   "name": "python",
   "nbconvert_exporter": "python",
   "pygments_lexer": "ipython3",
   "version": "3.6.6"
  }
 },
 "nbformat": 4,
 "nbformat_minor": 2
}
